{
 "cells": [
  {
   "cell_type": "code",
   "execution_count": 1,
   "id": "b3dffe9b",
   "metadata": {},
   "outputs": [],
   "source": [
    "import time\n",
    "import csv\n",
    "import requests\n",
    "from bs4 import BeautifulSoup"
   ]
  },
  {
   "cell_type": "code",
   "execution_count": 2,
   "id": "65598ef6",
   "metadata": {},
   "outputs": [],
   "source": [
    "# Amazon search URL for scraping\n",
    "AMAZON_URL = \"https://www.amazon.in/s?rh=n%3A6612025031&fs=true&ref=lp_6612025031_sar\"\n",
    "HEADERS = {\n",
    "    \"User-Agent\": \"Mozilla/5.0 (Windows NT 10.0; Win64; x64) AppleWebKit/537.36 (KHTML, like Gecko) Chrome/119.0.0.0 Safari/537.36\",\n",
    "    \"Accept-Language\": \"en-US,en;q=0.9\",\n",
    "}"
   ]
  },
  {
   "cell_type": "code",
   "execution_count": 3,
   "id": "3e057c7b",
   "metadata": {},
   "outputs": [],
   "source": [
    "def get_seller_from_product_page(product_url):\n",
    "    \"\"\"\n",
    "    Fetches the seller name from the product's detail page.\n",
    "    \"\"\"\n",
    "    try:\n",
    "        response = requests.get(product_url, headers=HEADERS)\n",
    "        if response.status_code != 200:\n",
    "            return \"Unknown\"\n",
    "        \n",
    "        soup = BeautifulSoup(response.text, \"html.parser\")\n",
    "        seller_tag = soup.find(\"a\", id=\"sellerProfileTriggerId\")\n",
    "        return seller_tag.text.strip() if seller_tag else \"Unknown\"\n",
    "    except Exception as e:\n",
    "        print(f\"Error fetching seller for {product_url}: {e}\")\n",
    "        return \"Unknown\""
   ]
  },
  {
   "cell_type": "code",
   "execution_count": 4,
   "id": "09329c6d",
   "metadata": {},
   "outputs": [],
   "source": [
    "def scrape_amazon_products():\n",
    "    \"\"\"\n",
    "    Scrapes product details (Product Name, Price, Rating, and Seller Name) from Amazon's search results page.\n",
    "    \"\"\"\n",
    "    try:\n",
    "        print(\"Fetching Amazon page...\")\n",
    "        response = requests.get(AMAZON_URL, headers=HEADERS)\n",
    "        if response.status_code != 200:\n",
    "            print(\"Failed to retrieve page. Status code:\", response.status_code)\n",
    "            return []\n",
    "        \n",
    "        soup = BeautifulSoup(response.text, \"html.parser\")\n",
    "        products = []\n",
    "\n",
    "        # Finding all product containers on the page\n",
    "        product_containers = soup.find_all(\"div\", {\"data-component-type\": \"s-search-result\"})\n",
    "        print(f\"Found {len(product_containers)} products.\")\n",
    "\n",
    "        for product in product_containers:\n",
    "            product_details = {}\n",
    "            \n",
    "            # Extract product name\n",
    "            title_tag = product.find(\"h2\")\n",
    "            product_details['Product Name'] = title_tag.text.strip() if title_tag else \"N/A\"\n",
    "            \n",
    "            # Extract product price\n",
    "            price_tag = product.find(\"span\", class_=\"a-price-whole\")\n",
    "            product_details['Price'] = price_tag.text.strip() if price_tag else \"N/A\"\n",
    "            \n",
    "            # Extract product rating\n",
    "            rating_tag = product.find(\"span\", class_=\"a-icon-alt\")\n",
    "            product_details['Rating'] = rating_tag.text.split()[0] if rating_tag else \"N/A\"\n",
    "            \n",
    "            # Extract product URL to fetch seller name\n",
    "            product_link_tag = product.find(\"a\", class_=\"a-link-normal\")\n",
    "            if product_link_tag:\n",
    "                product_url = \"https://www.amazon.in\" + product_link_tag[\"href\"]\n",
    "                product_details['Seller Name'] = get_seller_from_product_page(product_url)\n",
    "            else:\n",
    "                product_details['Seller Name'] = \"Unknown\"\n",
    "            \n",
    "            products.append(product_details)\n",
    "\n",
    "        # Save extracted data to CSV\n",
    "        save_to_csv(products)\n",
    "        print(\"Data saved to Amazon_Products_Scrape.csv\")\n",
    "        return products\n",
    "    except Exception as e:\n",
    "        print(\"Error occurred while scraping Amazon:\", str(e))\n",
    "        return []"
   ]
  },
  {
   "cell_type": "code",
   "execution_count": 5,
   "id": "2614c428",
   "metadata": {},
   "outputs": [],
   "source": [
    "def save_to_csv(products):\n",
    "    \"\"\"\n",
    "    Saves the extracted product data into a CSV file with proper column names.\n",
    "    \"\"\"\n",
    "    filename = 'Amazon_Products_Scrape.csv'\n",
    "    with open(filename, mode='w', newline='', encoding='utf-8') as file:\n",
    "        fieldnames = [\"Product Name\", \"Price\", \"Rating\", \"Seller Name\"]\n",
    "        writer = csv.DictWriter(file, fieldnames=fieldnames)\n",
    "        writer.writeheader()\n",
    "        writer.writerows(products)"
   ]
  },
  {
   "cell_type": "code",
   "execution_count": 6,
   "id": "6a00a32b",
   "metadata": {},
   "outputs": [
    {
     "name": "stdout",
     "output_type": "stream",
     "text": [
      "Fetching Amazon page...\n",
      "Found 33 products.\n",
      "Data saved to Amazon_Products_Scrape.csv\n",
      "Number of products found: 33\n"
     ]
    }
   ],
   "source": [
    "def main():\n",
    "    \"\"\"\n",
    "    Initiates the Amazon scraping process.\n",
    "    \"\"\"\n",
    "    products = scrape_amazon_products()\n",
    "    print(f\"Number of products found: {len(products)}\")\n",
    "\n",
    "if __name__ == \"__main__\":\n",
    "    main()"
   ]
  }
 ],
 "metadata": {
  "kernelspec": {
   "display_name": "Python 3 (ipykernel)",
   "language": "python",
   "name": "python3"
  },
  "language_info": {
   "codemirror_mode": {
    "name": "ipython",
    "version": 3
   },
   "file_extension": ".py",
   "mimetype": "text/x-python",
   "name": "python",
   "nbconvert_exporter": "python",
   "pygments_lexer": "ipython3",
   "version": "3.11.7"
  }
 },
 "nbformat": 4,
 "nbformat_minor": 5
}
